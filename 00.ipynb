{
  "nbformat": 4,
  "nbformat_minor": 0,
  "metadata": {
    "colab": {
      "provenance": [],
      "authorship_tag": "ABX9TyOZprumEgGztWxe23NGxcnY",
      "include_colab_link": true
    },
    "kernelspec": {
      "name": "python3",
      "display_name": "Python 3"
    },
    "language_info": {
      "name": "python"
    },
    "gpuClass": "standard",
    "accelerator": "GPU"
  },
  "cells": [
    {
      "cell_type": "markdown",
      "metadata": {
        "id": "view-in-github",
        "colab_type": "text"
      },
      "source": [
        "<a href=\"https://colab.research.google.com/github/lacteolus/pytorch_fundamentals/blob/master/00.ipynb\" target=\"_parent\"><img src=\"https://colab.research.google.com/assets/colab-badge.svg\" alt=\"Open In Colab\"/></a>"
      ]
    },
    {
      "cell_type": "code",
      "execution_count": 1,
      "metadata": {
        "colab": {
          "base_uri": "https://localhost:8080/"
        },
        "id": "cGqWlDWv59-m",
        "outputId": "30ed1ca8-c947-477d-c866-b6af5521a0dc"
      },
      "outputs": [
        {
          "output_type": "stream",
          "name": "stdout",
          "text": [
            "1.13.1+cu116\n"
          ]
        }
      ],
      "source": [
        "import torch\n",
        "import numpy as np\n",
        "import pandas as pd\n",
        "import matplotlib.pyplot as plt\n",
        "print(torch.__version__)"
      ]
    },
    {
      "cell_type": "markdown",
      "source": [
        "## Tensors"
      ],
      "metadata": {
        "id": "lKCVtKK6SKwN"
      }
    },
    {
      "cell_type": "markdown",
      "source": [
        "### Scalar"
      ],
      "metadata": {
        "id": "RT-W4PrbTgap"
      }
    },
    {
      "cell_type": "code",
      "source": [
        "scalar = torch.tensor(7)\n",
        "scalar"
      ],
      "metadata": {
        "colab": {
          "base_uri": "https://localhost:8080/"
        },
        "id": "h-mG-axHSP9V",
        "outputId": "b99c263d-0829-4083-a656-67b93d302729"
      },
      "execution_count": 2,
      "outputs": [
        {
          "output_type": "execute_result",
          "data": {
            "text/plain": [
              "tensor(7)"
            ]
          },
          "metadata": {},
          "execution_count": 2
        }
      ]
    },
    {
      "cell_type": "code",
      "source": [
        "scalar.ndim"
      ],
      "metadata": {
        "colab": {
          "base_uri": "https://localhost:8080/"
        },
        "id": "qzuL5VJQSYg_",
        "outputId": "5d40f0a0-5e28-4379-b8b5-29679a2b07b4"
      },
      "execution_count": 3,
      "outputs": [
        {
          "output_type": "execute_result",
          "data": {
            "text/plain": [
              "0"
            ]
          },
          "metadata": {},
          "execution_count": 3
        }
      ]
    },
    {
      "cell_type": "code",
      "source": [
        "scalar.item()"
      ],
      "metadata": {
        "colab": {
          "base_uri": "https://localhost:8080/"
        },
        "id": "DNHr6ndDSomu",
        "outputId": "42b57016-ca98-43ff-e84b-f3e9eb11b5bf"
      },
      "execution_count": 4,
      "outputs": [
        {
          "output_type": "execute_result",
          "data": {
            "text/plain": [
              "7"
            ]
          },
          "metadata": {},
          "execution_count": 4
        }
      ]
    },
    {
      "cell_type": "markdown",
      "source": [
        "### Vector"
      ],
      "metadata": {
        "id": "acjO-FdMTkXJ"
      }
    },
    {
      "cell_type": "code",
      "source": [
        "vector = torch.tensor([7, 7])\n",
        "vector"
      ],
      "metadata": {
        "colab": {
          "base_uri": "https://localhost:8080/"
        },
        "id": "DpdsueAZTANp",
        "outputId": "29d675d3-b1cf-4a34-ea32-2d07aae271b0"
      },
      "execution_count": 5,
      "outputs": [
        {
          "output_type": "execute_result",
          "data": {
            "text/plain": [
              "tensor([7, 7])"
            ]
          },
          "metadata": {},
          "execution_count": 5
        }
      ]
    },
    {
      "cell_type": "code",
      "source": [
        "vector.ndim"
      ],
      "metadata": {
        "colab": {
          "base_uri": "https://localhost:8080/"
        },
        "id": "_Z1DJJZCTJy_",
        "outputId": "bfec995e-ec7a-4e95-8408-ce68ef34ced8"
      },
      "execution_count": 6,
      "outputs": [
        {
          "output_type": "execute_result",
          "data": {
            "text/plain": [
              "1"
            ]
          },
          "metadata": {},
          "execution_count": 6
        }
      ]
    },
    {
      "cell_type": "code",
      "source": [
        "vector.shape"
      ],
      "metadata": {
        "colab": {
          "base_uri": "https://localhost:8080/"
        },
        "id": "epH-H0L2TVdf",
        "outputId": "e263bf6d-ab56-4f69-e7d0-de599d2bcda9"
      },
      "execution_count": 7,
      "outputs": [
        {
          "output_type": "execute_result",
          "data": {
            "text/plain": [
              "torch.Size([2])"
            ]
          },
          "metadata": {},
          "execution_count": 7
        }
      ]
    },
    {
      "cell_type": "markdown",
      "source": [
        "### Matrix"
      ],
      "metadata": {
        "id": "4Pzf9-1zTpk-"
      }
    },
    {
      "cell_type": "code",
      "source": [
        "matrix = torch.tensor([[7, 7], [7, 7]])\n",
        "matrix"
      ],
      "metadata": {
        "colab": {
          "base_uri": "https://localhost:8080/"
        },
        "id": "SEhHtoWLTY5Q",
        "outputId": "49445d8a-eb36-44a7-dae8-17dcf1fd4dc6"
      },
      "execution_count": 8,
      "outputs": [
        {
          "output_type": "execute_result",
          "data": {
            "text/plain": [
              "tensor([[7, 7],\n",
              "        [7, 7]])"
            ]
          },
          "metadata": {},
          "execution_count": 8
        }
      ]
    },
    {
      "cell_type": "code",
      "source": [
        "matrix.ndim"
      ],
      "metadata": {
        "colab": {
          "base_uri": "https://localhost:8080/"
        },
        "id": "-QZ4VmBqT0l1",
        "outputId": "4d11b8d5-0420-4b85-9562-82fff6eb2903"
      },
      "execution_count": 9,
      "outputs": [
        {
          "output_type": "execute_result",
          "data": {
            "text/plain": [
              "2"
            ]
          },
          "metadata": {},
          "execution_count": 9
        }
      ]
    },
    {
      "cell_type": "code",
      "source": [
        "matrix.shape"
      ],
      "metadata": {
        "colab": {
          "base_uri": "https://localhost:8080/"
        },
        "id": "ZyllabGAT7sH",
        "outputId": "2dd29e05-ea59-4fae-c0b6-576393aee984"
      },
      "execution_count": 10,
      "outputs": [
        {
          "output_type": "execute_result",
          "data": {
            "text/plain": [
              "torch.Size([2, 2])"
            ]
          },
          "metadata": {},
          "execution_count": 10
        }
      ]
    },
    {
      "cell_type": "markdown",
      "source": [
        "## Tensor"
      ],
      "metadata": {
        "id": "JPLq8ilfUYM1"
      }
    },
    {
      "cell_type": "code",
      "source": [
        "tensor = torch.tensor([[[1, 2, 3], [4, 5, 6], [7, 8, 9]]])\n",
        "tensor"
      ],
      "metadata": {
        "colab": {
          "base_uri": "https://localhost:8080/"
        },
        "id": "EreHpT-2T-je",
        "outputId": "c218b3e4-a37d-4f2a-d379-7ebac1e037d0"
      },
      "execution_count": 11,
      "outputs": [
        {
          "output_type": "execute_result",
          "data": {
            "text/plain": [
              "tensor([[[1, 2, 3],\n",
              "         [4, 5, 6],\n",
              "         [7, 8, 9]]])"
            ]
          },
          "metadata": {},
          "execution_count": 11
        }
      ]
    },
    {
      "cell_type": "code",
      "source": [
        "tensor.ndim"
      ],
      "metadata": {
        "colab": {
          "base_uri": "https://localhost:8080/"
        },
        "id": "N9tNCKMoUien",
        "outputId": "e7d3876d-aa86-4850-d619-b8b9ada2c36b"
      },
      "execution_count": 12,
      "outputs": [
        {
          "output_type": "execute_result",
          "data": {
            "text/plain": [
              "3"
            ]
          },
          "metadata": {},
          "execution_count": 12
        }
      ]
    },
    {
      "cell_type": "code",
      "source": [
        "tensor.shape"
      ],
      "metadata": {
        "colab": {
          "base_uri": "https://localhost:8080/"
        },
        "id": "KEENDpplUmbU",
        "outputId": "f6176926-99b2-4034-ae0c-02d0138169a6"
      },
      "execution_count": 13,
      "outputs": [
        {
          "output_type": "execute_result",
          "data": {
            "text/plain": [
              "torch.Size([1, 3, 3])"
            ]
          },
          "metadata": {},
          "execution_count": 13
        }
      ]
    },
    {
      "cell_type": "code",
      "source": [
        "tensor[0, 1]"
      ],
      "metadata": {
        "colab": {
          "base_uri": "https://localhost:8080/"
        },
        "id": "aZnjsrkTUodN",
        "outputId": "337e38fb-ffb6-4112-c47a-ac87cbe92eab"
      },
      "execution_count": 14,
      "outputs": [
        {
          "output_type": "execute_result",
          "data": {
            "text/plain": [
              "tensor([4, 5, 6])"
            ]
          },
          "metadata": {},
          "execution_count": 14
        }
      ]
    },
    {
      "cell_type": "code",
      "source": [
        "tensor[0][1]"
      ],
      "metadata": {
        "colab": {
          "base_uri": "https://localhost:8080/"
        },
        "id": "rBfuAllWVETO",
        "outputId": "5e4753ee-bfd0-45a3-f1dd-bbd795cd55f6"
      },
      "execution_count": 15,
      "outputs": [
        {
          "output_type": "execute_result",
          "data": {
            "text/plain": [
              "tensor([4, 5, 6])"
            ]
          },
          "metadata": {},
          "execution_count": 15
        }
      ]
    },
    {
      "cell_type": "markdown",
      "source": [
        "### Random tensors"
      ],
      "metadata": {
        "id": "vIh7K9JYV31E"
      }
    },
    {
      "cell_type": "code",
      "source": [
        "rnd_tensor = torch.rand(2, 3, 4)\n",
        "rnd_tensor"
      ],
      "metadata": {
        "colab": {
          "base_uri": "https://localhost:8080/"
        },
        "id": "Lid-M_fVVaIW",
        "outputId": "165e848e-12be-443a-cef7-d675c495aee0"
      },
      "execution_count": 16,
      "outputs": [
        {
          "output_type": "execute_result",
          "data": {
            "text/plain": [
              "tensor([[[0.1060, 0.2138, 0.1765, 0.7497],\n",
              "         [0.4821, 0.6976, 0.6348, 0.2100],\n",
              "         [0.5607, 0.0868, 0.2533, 0.0562]],\n",
              "\n",
              "        [[0.9360, 0.6562, 0.4872, 0.0335],\n",
              "         [0.6919, 0.4250, 0.1349, 0.6589],\n",
              "         [0.9980, 0.0083, 0.6583, 0.0916]]])"
            ]
          },
          "metadata": {},
          "execution_count": 16
        }
      ]
    },
    {
      "cell_type": "code",
      "source": [
        "rnd_tensor.ndim"
      ],
      "metadata": {
        "colab": {
          "base_uri": "https://localhost:8080/"
        },
        "id": "jdCD9x1IWtR8",
        "outputId": "40b7ca9d-d521-48d5-a6ab-6ef507884ee6"
      },
      "execution_count": 17,
      "outputs": [
        {
          "output_type": "execute_result",
          "data": {
            "text/plain": [
              "3"
            ]
          },
          "metadata": {},
          "execution_count": 17
        }
      ]
    },
    {
      "cell_type": "code",
      "source": [
        "rnd_tensor.shape"
      ],
      "metadata": {
        "colab": {
          "base_uri": "https://localhost:8080/"
        },
        "id": "FrUjZ5UFXKKb",
        "outputId": "c8ad8454-7346-48d7-c59b-1a90b2f679d3"
      },
      "execution_count": 18,
      "outputs": [
        {
          "output_type": "execute_result",
          "data": {
            "text/plain": [
              "torch.Size([2, 3, 4])"
            ]
          },
          "metadata": {},
          "execution_count": 18
        }
      ]
    },
    {
      "cell_type": "code",
      "source": [
        "img_tensor = torch.rand(size=(3, 200, 200))\n",
        "img_tensor"
      ],
      "metadata": {
        "colab": {
          "base_uri": "https://localhost:8080/"
        },
        "id": "0bLc1VzRXV0B",
        "outputId": "85a6cd1d-8a0a-4329-91ba-a0cd72d3b5a2"
      },
      "execution_count": 19,
      "outputs": [
        {
          "output_type": "execute_result",
          "data": {
            "text/plain": [
              "tensor([[[0.4970, 0.3274, 0.1673,  ..., 0.7506, 0.1977, 0.4584],\n",
              "         [0.6289, 0.6824, 0.4448,  ..., 0.2014, 0.8314, 0.2140],\n",
              "         [0.7323, 0.3363, 0.4263,  ..., 0.6256, 0.5023, 0.2365],\n",
              "         ...,\n",
              "         [0.5702, 0.6978, 0.5114,  ..., 0.2437, 0.5701, 0.1524],\n",
              "         [0.9366, 0.0664, 0.4495,  ..., 0.9323, 0.3422, 0.0222],\n",
              "         [0.0061, 0.0211, 0.0995,  ..., 0.2461, 0.6424, 0.1705]],\n",
              "\n",
              "        [[0.9077, 0.2774, 0.3471,  ..., 0.4334, 0.0512, 0.9325],\n",
              "         [0.9455, 0.1921, 0.7431,  ..., 0.2310, 0.7848, 0.4578],\n",
              "         [0.9703, 0.3047, 0.1158,  ..., 0.1633, 0.3354, 0.1201],\n",
              "         ...,\n",
              "         [0.7650, 0.6669, 0.1342,  ..., 0.4894, 0.6472, 0.2855],\n",
              "         [0.9408, 0.6155, 0.0155,  ..., 0.7543, 0.4044, 0.5994],\n",
              "         [0.2718, 0.3298, 0.1246,  ..., 0.5574, 0.3658, 0.8627]],\n",
              "\n",
              "        [[0.0548, 0.8440, 0.0542,  ..., 0.3222, 0.5705, 0.0144],\n",
              "         [0.0461, 0.4142, 0.3751,  ..., 0.6258, 0.2542, 0.6905],\n",
              "         [0.3848, 0.1612, 0.4472,  ..., 0.4728, 0.2976, 0.3623],\n",
              "         ...,\n",
              "         [0.2481, 0.7519, 0.6167,  ..., 0.9940, 0.7441, 0.6727],\n",
              "         [0.0769, 0.8384, 0.2621,  ..., 0.6298, 0.3604, 0.8849],\n",
              "         [0.7804, 0.5158, 0.4653,  ..., 0.4870, 0.5387, 0.8610]]])"
            ]
          },
          "metadata": {},
          "execution_count": 19
        }
      ]
    },
    {
      "cell_type": "code",
      "source": [
        "img_tensor.ndim, img_tensor.shape"
      ],
      "metadata": {
        "colab": {
          "base_uri": "https://localhost:8080/"
        },
        "id": "xL6mAiCqYQro",
        "outputId": "718f843e-35cd-49f2-937a-e3a183bb5fcb"
      },
      "execution_count": 20,
      "outputs": [
        {
          "output_type": "execute_result",
          "data": {
            "text/plain": [
              "(3, torch.Size([3, 200, 200]))"
            ]
          },
          "metadata": {},
          "execution_count": 20
        }
      ]
    },
    {
      "cell_type": "code",
      "source": [
        "img_tensor[0, 0]"
      ],
      "metadata": {
        "colab": {
          "base_uri": "https://localhost:8080/"
        },
        "id": "JJqHjO90Yaow",
        "outputId": "afae7691-db0b-42f3-ab36-a2b166ecea6d"
      },
      "execution_count": 21,
      "outputs": [
        {
          "output_type": "execute_result",
          "data": {
            "text/plain": [
              "tensor([4.9697e-01, 3.2743e-01, 1.6730e-01, 7.1026e-02, 3.5889e-01, 2.0809e-01,\n",
              "        8.3725e-03, 3.3581e-01, 2.6525e-02, 7.6782e-01, 8.0905e-01, 4.7902e-01,\n",
              "        9.4041e-01, 7.9427e-01, 5.6875e-02, 1.7926e-01, 1.9228e-01, 2.3145e-01,\n",
              "        2.2871e-01, 9.5937e-01, 2.5445e-01, 5.8249e-01, 6.9742e-01, 6.9683e-01,\n",
              "        8.3862e-01, 3.1233e-01, 3.4086e-01, 5.1587e-01, 1.4800e-01, 4.5556e-01,\n",
              "        7.1367e-01, 8.9454e-01, 6.2885e-01, 1.1653e-01, 5.8837e-01, 5.2375e-01,\n",
              "        9.7153e-01, 9.4913e-01, 5.1508e-01, 2.0568e-01, 9.0345e-01, 9.5795e-01,\n",
              "        7.2745e-01, 4.7097e-01, 3.1320e-01, 2.0667e-01, 8.1832e-01, 8.0514e-01,\n",
              "        4.1001e-01, 6.8361e-01, 1.2901e-01, 5.7743e-01, 7.4112e-01, 6.1211e-01,\n",
              "        7.1213e-01, 1.1430e-01, 5.2031e-01, 3.9417e-01, 7.2116e-02, 6.4424e-01,\n",
              "        8.3534e-01, 6.7936e-01, 1.2639e-01, 5.4103e-01, 2.0976e-01, 6.0797e-01,\n",
              "        5.7438e-01, 3.0755e-01, 5.1293e-01, 1.8267e-01, 1.2140e-01, 7.7566e-01,\n",
              "        3.3424e-01, 6.5785e-01, 5.7101e-01, 8.3331e-01, 3.0908e-01, 9.1388e-02,\n",
              "        1.0428e-01, 7.4972e-01, 9.1352e-01, 1.6190e-01, 4.9019e-01, 3.2474e-01,\n",
              "        4.1355e-01, 8.2946e-01, 7.3792e-01, 7.0765e-01, 7.0374e-01, 8.7766e-02,\n",
              "        6.1672e-03, 4.1926e-01, 6.8569e-01, 4.5142e-01, 2.0088e-01, 3.8747e-01,\n",
              "        1.1004e-01, 3.1671e-01, 8.1502e-01, 7.1374e-01, 6.5229e-01, 1.3210e-01,\n",
              "        9.5445e-01, 9.9034e-01, 4.0255e-01, 9.2007e-01, 7.3004e-01, 2.0723e-02,\n",
              "        3.9875e-01, 6.8697e-01, 4.7395e-02, 1.7230e-01, 3.6289e-01, 7.9620e-01,\n",
              "        7.4724e-01, 2.5106e-01, 3.0559e-04, 6.8239e-01, 5.8793e-01, 2.0870e-01,\n",
              "        3.7139e-01, 1.1618e-01, 5.3704e-01, 6.4934e-01, 3.2626e-01, 1.9124e-01,\n",
              "        5.7662e-01, 9.5709e-01, 8.8223e-01, 8.9424e-01, 3.3581e-01, 3.3420e-01,\n",
              "        6.1055e-01, 5.3342e-01, 8.1877e-01, 9.7291e-01, 2.5284e-01, 2.8010e-01,\n",
              "        6.9025e-01, 2.8676e-01, 5.4929e-01, 8.7149e-01, 9.7059e-01, 4.9711e-01,\n",
              "        1.1364e-01, 8.2810e-02, 3.4009e-01, 1.2280e-01, 2.5939e-01, 6.4250e-01,\n",
              "        2.6126e-01, 7.0269e-01, 9.5787e-01, 3.5576e-01, 8.6390e-01, 2.5681e-01,\n",
              "        8.2187e-01, 4.9240e-01, 8.0632e-01, 4.4727e-01, 4.0966e-01, 3.9023e-01,\n",
              "        3.1451e-02, 9.0412e-01, 2.3196e-01, 2.1015e-02, 6.7772e-01, 3.3539e-01,\n",
              "        2.9179e-01, 6.8572e-01, 2.3893e-01, 9.5991e-01, 9.1376e-01, 7.2337e-01,\n",
              "        7.5511e-02, 3.3288e-02, 3.0924e-01, 7.4178e-03, 8.1956e-02, 9.1728e-01,\n",
              "        1.7721e-01, 9.2124e-01, 8.3259e-01, 7.0907e-01, 5.7734e-01, 9.9862e-01,\n",
              "        5.4198e-01, 4.5045e-01, 7.2267e-01, 2.0347e-01, 4.7117e-02, 2.5320e-01,\n",
              "        8.1840e-01, 1.7607e-01, 5.4510e-01, 3.5132e-01, 2.6700e-01, 7.5062e-01,\n",
              "        1.9775e-01, 4.5844e-01])"
            ]
          },
          "metadata": {},
          "execution_count": 21
        }
      ]
    },
    {
      "cell_type": "markdown",
      "source": [
        "### Ones and zeroes"
      ],
      "metadata": {
        "id": "7vEA_DjAZN4X"
      }
    },
    {
      "cell_type": "code",
      "source": [
        "ones = torch.ones(size=(2, 2))\n",
        "ones"
      ],
      "metadata": {
        "colab": {
          "base_uri": "https://localhost:8080/"
        },
        "id": "oNjmmkxmYzz_",
        "outputId": "4ade08ce-b356-4262-dabd-2bd190894186"
      },
      "execution_count": 22,
      "outputs": [
        {
          "output_type": "execute_result",
          "data": {
            "text/plain": [
              "tensor([[1., 1.],\n",
              "        [1., 1.]])"
            ]
          },
          "metadata": {},
          "execution_count": 22
        }
      ]
    },
    {
      "cell_type": "code",
      "source": [
        "ones.dtype"
      ],
      "metadata": {
        "colab": {
          "base_uri": "https://localhost:8080/"
        },
        "id": "7-YD-NaiZkqa",
        "outputId": "945bd2dd-3677-43e3-991c-20e63e8b8017"
      },
      "execution_count": 23,
      "outputs": [
        {
          "output_type": "execute_result",
          "data": {
            "text/plain": [
              "torch.float32"
            ]
          },
          "metadata": {},
          "execution_count": 23
        }
      ]
    },
    {
      "cell_type": "code",
      "source": [
        "zeros = torch.zeros(size=(2, 2))\n",
        "zeros"
      ],
      "metadata": {
        "colab": {
          "base_uri": "https://localhost:8080/"
        },
        "id": "o0y2O5CTZWLH",
        "outputId": "6497d477-04c8-4655-bcb6-73e35dabac7c"
      },
      "execution_count": 24,
      "outputs": [
        {
          "output_type": "execute_result",
          "data": {
            "text/plain": [
              "tensor([[0., 0.],\n",
              "        [0., 0.]])"
            ]
          },
          "metadata": {},
          "execution_count": 24
        }
      ]
    },
    {
      "cell_type": "markdown",
      "source": [
        "### Ranges and tensor like"
      ],
      "metadata": {
        "id": "FQ2D4-suZ0mp"
      }
    },
    {
      "cell_type": "code",
      "source": [
        "range_tensor = torch.arange(0, 10, 2)\n",
        "range_tensor"
      ],
      "metadata": {
        "colab": {
          "base_uri": "https://localhost:8080/"
        },
        "id": "hrEuvgxaZbo4",
        "outputId": "4c57c887-c4ae-4fc5-c911-3dcb2cb6af5e"
      },
      "execution_count": 25,
      "outputs": [
        {
          "output_type": "execute_result",
          "data": {
            "text/plain": [
              "tensor([0, 2, 4, 6, 8])"
            ]
          },
          "metadata": {},
          "execution_count": 25
        }
      ]
    },
    {
      "cell_type": "code",
      "source": [
        "like_tensor = torch.zeros_like(range_tensor)\n",
        "like_tensor"
      ],
      "metadata": {
        "colab": {
          "base_uri": "https://localhost:8080/"
        },
        "id": "Y2uObfuMaAkd",
        "outputId": "22f6971d-b5c6-43d5-ae7e-6172bc3a6028"
      },
      "execution_count": 26,
      "outputs": [
        {
          "output_type": "execute_result",
          "data": {
            "text/plain": [
              "tensor([0, 0, 0, 0, 0])"
            ]
          },
          "metadata": {},
          "execution_count": 26
        }
      ]
    },
    {
      "cell_type": "markdown",
      "source": [
        "### Tensor datatypes"
      ],
      "metadata": {
        "id": "nMBR68rXbBSy"
      }
    },
    {
      "cell_type": "code",
      "source": [
        "float_tensor = torch.tensor([2, 3, 4], dtype=torch.float32)\n",
        "float_tensor"
      ],
      "metadata": {
        "colab": {
          "base_uri": "https://localhost:8080/"
        },
        "id": "ecZI48gtanH-",
        "outputId": "f862015e-6c7c-4b0d-c6a0-4d29a880af9d"
      },
      "execution_count": 27,
      "outputs": [
        {
          "output_type": "execute_result",
          "data": {
            "text/plain": [
              "tensor([2., 3., 4.])"
            ]
          },
          "metadata": {},
          "execution_count": 27
        }
      ]
    },
    {
      "cell_type": "code",
      "source": [
        "bool_tensor = torch.tensor([0, 3, 4], dtype=torch.bool)\n",
        "bool_tensor"
      ],
      "metadata": {
        "colab": {
          "base_uri": "https://localhost:8080/"
        },
        "id": "Qb_MXOvCbQpN",
        "outputId": "db35500e-bf37-4200-d65f-bbd13a9099bb"
      },
      "execution_count": 28,
      "outputs": [
        {
          "output_type": "execute_result",
          "data": {
            "text/plain": [
              "tensor([False,  True,  True])"
            ]
          },
          "metadata": {},
          "execution_count": 28
        }
      ]
    },
    {
      "cell_type": "code",
      "source": [
        "int_tensor = float_tensor.type(torch.int32)\n",
        "int_tensor.dtype"
      ],
      "metadata": {
        "colab": {
          "base_uri": "https://localhost:8080/"
        },
        "id": "dLQjk1bjb7ge",
        "outputId": "8af9497a-53a6-460d-9f20-8a5179713c50"
      },
      "execution_count": 29,
      "outputs": [
        {
          "output_type": "execute_result",
          "data": {
            "text/plain": [
              "torch.int32"
            ]
          },
          "metadata": {},
          "execution_count": 29
        }
      ]
    },
    {
      "cell_type": "code",
      "source": [
        "int_tensor"
      ],
      "metadata": {
        "colab": {
          "base_uri": "https://localhost:8080/"
        },
        "id": "XJaWV3JzdIKs",
        "outputId": "faca6609-6911-418f-c27d-dbf5f010f859"
      },
      "execution_count": 30,
      "outputs": [
        {
          "output_type": "execute_result",
          "data": {
            "text/plain": [
              "tensor([2, 3, 4], dtype=torch.int32)"
            ]
          },
          "metadata": {},
          "execution_count": 30
        }
      ]
    },
    {
      "cell_type": "code",
      "source": [
        "int_tensor.device"
      ],
      "metadata": {
        "colab": {
          "base_uri": "https://localhost:8080/"
        },
        "id": "qQ1O4-K1dauj",
        "outputId": "588c4653-8794-4e26-8967-e144bf967efd"
      },
      "execution_count": 31,
      "outputs": [
        {
          "output_type": "execute_result",
          "data": {
            "text/plain": [
              "device(type='cpu')"
            ]
          },
          "metadata": {},
          "execution_count": 31
        }
      ]
    },
    {
      "cell_type": "markdown",
      "source": [
        "### Tensors operations"
      ],
      "metadata": {
        "id": "sn-PLhQuFRPr"
      }
    },
    {
      "cell_type": "code",
      "source": [
        "a_tensor = torch.tensor([1, 2, 3])"
      ],
      "metadata": {
        "id": "EhMs1nWHFTOK"
      },
      "execution_count": 32,
      "outputs": []
    },
    {
      "cell_type": "code",
      "source": [
        "a_tensor + 10"
      ],
      "metadata": {
        "colab": {
          "base_uri": "https://localhost:8080/"
        },
        "id": "Fdq_lyXrFrY5",
        "outputId": "d0914816-4f8a-439b-f788-dd29123bd073"
      },
      "execution_count": 33,
      "outputs": [
        {
          "output_type": "execute_result",
          "data": {
            "text/plain": [
              "tensor([11, 12, 13])"
            ]
          },
          "metadata": {},
          "execution_count": 33
        }
      ]
    },
    {
      "cell_type": "code",
      "source": [
        "a_tensor * 10"
      ],
      "metadata": {
        "colab": {
          "base_uri": "https://localhost:8080/"
        },
        "id": "GgNCMglXFtr4",
        "outputId": "5c7185b1-f779-47ac-bc4e-2d1c19086d91"
      },
      "execution_count": 34,
      "outputs": [
        {
          "output_type": "execute_result",
          "data": {
            "text/plain": [
              "tensor([10, 20, 30])"
            ]
          },
          "metadata": {},
          "execution_count": 34
        }
      ]
    },
    {
      "cell_type": "code",
      "source": [
        "a_tensor - 10"
      ],
      "metadata": {
        "colab": {
          "base_uri": "https://localhost:8080/"
        },
        "id": "BLPpi_WxF2m3",
        "outputId": "de359384-925c-4db0-f2c7-e7d0af4ba3a4"
      },
      "execution_count": 35,
      "outputs": [
        {
          "output_type": "execute_result",
          "data": {
            "text/plain": [
              "tensor([-9, -8, -7])"
            ]
          },
          "metadata": {},
          "execution_count": 35
        }
      ]
    },
    {
      "cell_type": "code",
      "source": [
        "a_tensor / 10"
      ],
      "metadata": {
        "colab": {
          "base_uri": "https://localhost:8080/"
        },
        "id": "LluaFRN1GASA",
        "outputId": "c12238a6-52e3-4b2f-8171-bf8f49e40a12"
      },
      "execution_count": 36,
      "outputs": [
        {
          "output_type": "execute_result",
          "data": {
            "text/plain": [
              "tensor([0.1000, 0.2000, 0.3000])"
            ]
          },
          "metadata": {},
          "execution_count": 36
        }
      ]
    },
    {
      "cell_type": "code",
      "source": [
        "b_tensor = torch.tensor([4, 5, 6])"
      ],
      "metadata": {
        "id": "zCWLP4Q9GDQA"
      },
      "execution_count": 37,
      "outputs": []
    },
    {
      "cell_type": "code",
      "source": [
        "# element wise\n",
        "a_tensor * b_tensor"
      ],
      "metadata": {
        "colab": {
          "base_uri": "https://localhost:8080/"
        },
        "id": "slGPXHosGiBv",
        "outputId": "e42e8146-0e08-479b-b2f3-c95988ffa532"
      },
      "execution_count": 38,
      "outputs": [
        {
          "output_type": "execute_result",
          "data": {
            "text/plain": [
              "tensor([ 4, 10, 18])"
            ]
          },
          "metadata": {},
          "execution_count": 38
        }
      ]
    },
    {
      "cell_type": "code",
      "source": [
        "# matrix\n",
        "torch.matmul(a_tensor, b_tensor)"
      ],
      "metadata": {
        "colab": {
          "base_uri": "https://localhost:8080/"
        },
        "id": "rofAVzVqGlNH",
        "outputId": "bf6f1d23-6e63-4ae5-a53d-37373fa44e87"
      },
      "execution_count": 39,
      "outputs": [
        {
          "output_type": "execute_result",
          "data": {
            "text/plain": [
              "tensor(32)"
            ]
          },
          "metadata": {},
          "execution_count": 39
        }
      ]
    },
    {
      "cell_type": "code",
      "source": [
        "tensor_a = torch.tensor([[1, 2], \n",
        "                          [3, 4], \n",
        "                          [5, 6]])"
      ],
      "metadata": {
        "id": "ReQy4ksEHg8W"
      },
      "execution_count": 40,
      "outputs": []
    },
    {
      "cell_type": "code",
      "source": [
        "tensor_a.shape"
      ],
      "metadata": {
        "colab": {
          "base_uri": "https://localhost:8080/"
        },
        "id": "AvAFo9TVOY-U",
        "outputId": "d7523ac0-7aaf-4f54-d975-d3ec5c9e77fd"
      },
      "execution_count": 41,
      "outputs": [
        {
          "output_type": "execute_result",
          "data": {
            "text/plain": [
              "torch.Size([3, 2])"
            ]
          },
          "metadata": {},
          "execution_count": 41
        }
      ]
    },
    {
      "cell_type": "code",
      "source": [
        "tensor_b = torch.tensor([[7, 10], \n",
        "                          [8, 11], \n",
        "                          [9, 12]])"
      ],
      "metadata": {
        "id": "lFFwArtQOAT2"
      },
      "execution_count": 42,
      "outputs": []
    },
    {
      "cell_type": "code",
      "source": [
        "tensor_b.T"
      ],
      "metadata": {
        "colab": {
          "base_uri": "https://localhost:8080/"
        },
        "id": "kVnwkuBoONWl",
        "outputId": "d93a5e59-8d25-4651-cee1-15d63100b4a9"
      },
      "execution_count": 43,
      "outputs": [
        {
          "output_type": "execute_result",
          "data": {
            "text/plain": [
              "tensor([[ 7,  8,  9],\n",
              "        [10, 11, 12]])"
            ]
          },
          "metadata": {},
          "execution_count": 43
        }
      ]
    },
    {
      "cell_type": "code",
      "source": [
        "tensor_b.T.shape"
      ],
      "metadata": {
        "colab": {
          "base_uri": "https://localhost:8080/"
        },
        "id": "ggMGgdHrOPWd",
        "outputId": "d6090dac-b99f-447d-f550-2d70a1bed56c"
      },
      "execution_count": 44,
      "outputs": [
        {
          "output_type": "execute_result",
          "data": {
            "text/plain": [
              "torch.Size([2, 3])"
            ]
          },
          "metadata": {},
          "execution_count": 44
        }
      ]
    },
    {
      "cell_type": "code",
      "source": [
        "tensor_a @ tensor_b.T"
      ],
      "metadata": {
        "colab": {
          "base_uri": "https://localhost:8080/"
        },
        "id": "y17gqzhhOSON",
        "outputId": "cd3a5fb4-508e-4cf3-d6d1-33f180a47c85"
      },
      "execution_count": 45,
      "outputs": [
        {
          "output_type": "execute_result",
          "data": {
            "text/plain": [
              "tensor([[ 27,  30,  33],\n",
              "        [ 61,  68,  75],\n",
              "        [ 95, 106, 117]])"
            ]
          },
          "metadata": {},
          "execution_count": 45
        }
      ]
    },
    {
      "cell_type": "markdown",
      "source": [
        "### Tensor aggregation"
      ],
      "metadata": {
        "id": "BJhFmiIlO3vd"
      }
    },
    {
      "cell_type": "code",
      "source": [
        "tensor = torch.arange(1, 100, 3)"
      ],
      "metadata": {
        "id": "0JhpnrQ2OqtW"
      },
      "execution_count": 46,
      "outputs": []
    },
    {
      "cell_type": "code",
      "source": [
        "tensor.min()"
      ],
      "metadata": {
        "colab": {
          "base_uri": "https://localhost:8080/"
        },
        "id": "DcX30WD7PABd",
        "outputId": "897bf8f0-3822-43e1-de50-4db8385d792a"
      },
      "execution_count": 47,
      "outputs": [
        {
          "output_type": "execute_result",
          "data": {
            "text/plain": [
              "tensor(1)"
            ]
          },
          "metadata": {},
          "execution_count": 47
        }
      ]
    },
    {
      "cell_type": "code",
      "source": [
        "tensor.max()"
      ],
      "metadata": {
        "colab": {
          "base_uri": "https://localhost:8080/"
        },
        "id": "TlMBUv4SPBxV",
        "outputId": "319a9666-96b3-4c05-9fcf-bf4e7625c36c"
      },
      "execution_count": 48,
      "outputs": [
        {
          "output_type": "execute_result",
          "data": {
            "text/plain": [
              "tensor(97)"
            ]
          },
          "metadata": {},
          "execution_count": 48
        }
      ]
    },
    {
      "cell_type": "code",
      "source": [
        "tensor = tensor.type(torch.float32)\n",
        "torch.mean(tensor)"
      ],
      "metadata": {
        "colab": {
          "base_uri": "https://localhost:8080/"
        },
        "id": "cf1PYQZrPEJ-",
        "outputId": "ac8383db-54dc-492b-e026-e3f25279fd86"
      },
      "execution_count": 49,
      "outputs": [
        {
          "output_type": "execute_result",
          "data": {
            "text/plain": [
              "tensor(49.)"
            ]
          },
          "metadata": {},
          "execution_count": 49
        }
      ]
    },
    {
      "cell_type": "code",
      "source": [
        "tensor.sum()"
      ],
      "metadata": {
        "colab": {
          "base_uri": "https://localhost:8080/"
        },
        "id": "x-1-FvLyPK_-",
        "outputId": "22e5725d-5d06-41df-cb8a-982f3be933dd"
      },
      "execution_count": 50,
      "outputs": [
        {
          "output_type": "execute_result",
          "data": {
            "text/plain": [
              "tensor(1617.)"
            ]
          },
          "metadata": {},
          "execution_count": 50
        }
      ]
    },
    {
      "cell_type": "code",
      "source": [
        "tensor.argmin()"
      ],
      "metadata": {
        "colab": {
          "base_uri": "https://localhost:8080/"
        },
        "id": "nIJGOhttP55b",
        "outputId": "ea3e295e-1b78-4539-d69f-7f66847a88c7"
      },
      "execution_count": 51,
      "outputs": [
        {
          "output_type": "execute_result",
          "data": {
            "text/plain": [
              "tensor(0)"
            ]
          },
          "metadata": {},
          "execution_count": 51
        }
      ]
    },
    {
      "cell_type": "code",
      "source": [
        "tensor.argmax()"
      ],
      "metadata": {
        "colab": {
          "base_uri": "https://localhost:8080/"
        },
        "id": "kkThV1PGQeX9",
        "outputId": "e13ebc0e-1a45-4964-bca8-dd5d43fc228b"
      },
      "execution_count": 52,
      "outputs": [
        {
          "output_type": "execute_result",
          "data": {
            "text/plain": [
              "tensor(32)"
            ]
          },
          "metadata": {},
          "execution_count": 52
        }
      ]
    },
    {
      "cell_type": "code",
      "source": [
        "tensor[13]"
      ],
      "metadata": {
        "colab": {
          "base_uri": "https://localhost:8080/"
        },
        "id": "2Mk34dRmQgD7",
        "outputId": "eb5ac1b0-4100-453a-b0dc-b908f7895dc7"
      },
      "execution_count": 53,
      "outputs": [
        {
          "output_type": "execute_result",
          "data": {
            "text/plain": [
              "tensor(40.)"
            ]
          },
          "metadata": {},
          "execution_count": 53
        }
      ]
    },
    {
      "cell_type": "markdown",
      "source": [
        "### Reshape, stack, squeeze, unsqueeze"
      ],
      "metadata": {
        "id": "eisgxZ2DRVCp"
      }
    },
    {
      "cell_type": "code",
      "source": [
        "tensor = torch.arange(1, 10)"
      ],
      "metadata": {
        "id": "XcNlgLBlQzI5"
      },
      "execution_count": 54,
      "outputs": []
    },
    {
      "cell_type": "code",
      "source": [
        "tensor, tensor.shape"
      ],
      "metadata": {
        "colab": {
          "base_uri": "https://localhost:8080/"
        },
        "id": "DkaAn4kJSMRb",
        "outputId": "0f90ec1a-2f78-47e1-aa2c-028314257033"
      },
      "execution_count": 55,
      "outputs": [
        {
          "output_type": "execute_result",
          "data": {
            "text/plain": [
              "(tensor([1, 2, 3, 4, 5, 6, 7, 8, 9]), torch.Size([9]))"
            ]
          },
          "metadata": {},
          "execution_count": 55
        }
      ]
    },
    {
      "cell_type": "code",
      "source": [
        "new_tensor = tensor.reshape(3, 3)\n",
        "new_tensor, new_tensor.shape"
      ],
      "metadata": {
        "colab": {
          "base_uri": "https://localhost:8080/"
        },
        "id": "0WSOh2HmSPwJ",
        "outputId": "3b1f0aa2-5b13-469e-86b6-73f3713eb3d8"
      },
      "execution_count": 56,
      "outputs": [
        {
          "output_type": "execute_result",
          "data": {
            "text/plain": [
              "(tensor([[1, 2, 3],\n",
              "         [4, 5, 6],\n",
              "         [7, 8, 9]]), torch.Size([3, 3]))"
            ]
          },
          "metadata": {},
          "execution_count": 56
        }
      ]
    },
    {
      "cell_type": "code",
      "source": [
        "v_tensor = tensor.view(1, 9)\n",
        "v_tensor"
      ],
      "metadata": {
        "colab": {
          "base_uri": "https://localhost:8080/"
        },
        "id": "iTgv91bbSbQA",
        "outputId": "e2a547ce-0d58-49fb-852e-c90fd5dc47ac"
      },
      "execution_count": 57,
      "outputs": [
        {
          "output_type": "execute_result",
          "data": {
            "text/plain": [
              "tensor([[1, 2, 3, 4, 5, 6, 7, 8, 9]])"
            ]
          },
          "metadata": {},
          "execution_count": 57
        }
      ]
    },
    {
      "cell_type": "code",
      "source": [
        "v_tensor[:, 0] = 5\n",
        "v_tensor"
      ],
      "metadata": {
        "colab": {
          "base_uri": "https://localhost:8080/"
        },
        "id": "XHHYM-pgTLNw",
        "outputId": "01e67ec6-178d-4025-8764-146b82d8f85d"
      },
      "execution_count": 58,
      "outputs": [
        {
          "output_type": "execute_result",
          "data": {
            "text/plain": [
              "tensor([[5, 2, 3, 4, 5, 6, 7, 8, 9]])"
            ]
          },
          "metadata": {},
          "execution_count": 58
        }
      ]
    },
    {
      "cell_type": "code",
      "source": [
        "tensor"
      ],
      "metadata": {
        "colab": {
          "base_uri": "https://localhost:8080/"
        },
        "id": "rWNzfM2yTXd5",
        "outputId": "d2fab7aa-5c02-4dd1-8276-73614d29570e"
      },
      "execution_count": 59,
      "outputs": [
        {
          "output_type": "execute_result",
          "data": {
            "text/plain": [
              "tensor([5, 2, 3, 4, 5, 6, 7, 8, 9])"
            ]
          },
          "metadata": {},
          "execution_count": 59
        }
      ]
    },
    {
      "cell_type": "code",
      "source": [
        "s_tensor = torch.stack([tensor, tensor], dim=1)\n",
        "s_tensor"
      ],
      "metadata": {
        "colab": {
          "base_uri": "https://localhost:8080/"
        },
        "id": "1kPKVCO1Tuop",
        "outputId": "889ef65d-e802-46f4-8dac-4b0503b1f231"
      },
      "execution_count": 60,
      "outputs": [
        {
          "output_type": "execute_result",
          "data": {
            "text/plain": [
              "tensor([[5, 5],\n",
              "        [2, 2],\n",
              "        [3, 3],\n",
              "        [4, 4],\n",
              "        [5, 5],\n",
              "        [6, 6],\n",
              "        [7, 7],\n",
              "        [8, 8],\n",
              "        [9, 9]])"
            ]
          },
          "metadata": {},
          "execution_count": 60
        }
      ]
    },
    {
      "cell_type": "code",
      "source": [
        "s_tensor = torch.stack([tensor, tensor], dim=0)\n",
        "s_tensor"
      ],
      "metadata": {
        "colab": {
          "base_uri": "https://localhost:8080/"
        },
        "id": "XJXmv3MtT6A-",
        "outputId": "07456403-1cb1-412e-8165-10606f3f1d05"
      },
      "execution_count": 61,
      "outputs": [
        {
          "output_type": "execute_result",
          "data": {
            "text/plain": [
              "tensor([[5, 2, 3, 4, 5, 6, 7, 8, 9],\n",
              "        [5, 2, 3, 4, 5, 6, 7, 8, 9]])"
            ]
          },
          "metadata": {},
          "execution_count": 61
        }
      ]
    },
    {
      "cell_type": "code",
      "source": [
        "tensor = torch.tensor([[1, 2, 3]])\n",
        "tensor.shape"
      ],
      "metadata": {
        "colab": {
          "base_uri": "https://localhost:8080/"
        },
        "id": "Aanq-bXgUODg",
        "outputId": "7315605e-2285-472b-a1bd-646b53d69ff3"
      },
      "execution_count": 62,
      "outputs": [
        {
          "output_type": "execute_result",
          "data": {
            "text/plain": [
              "torch.Size([1, 3])"
            ]
          },
          "metadata": {},
          "execution_count": 62
        }
      ]
    },
    {
      "cell_type": "code",
      "source": [
        "ss_tensor = torch.squeeze(tensor)\n",
        "ss_tensor\n",
        "ss_tensor.shape"
      ],
      "metadata": {
        "colab": {
          "base_uri": "https://localhost:8080/"
        },
        "id": "rDQXQBfmUaId",
        "outputId": "c9590af6-ea95-4771-c30d-6bf45cdde518"
      },
      "execution_count": 63,
      "outputs": [
        {
          "output_type": "execute_result",
          "data": {
            "text/plain": [
              "torch.Size([3])"
            ]
          },
          "metadata": {},
          "execution_count": 63
        }
      ]
    },
    {
      "cell_type": "code",
      "source": [
        "u_tensor = torch.unsqueeze(ss_tensor, dim=1)\n",
        "u_tensor"
      ],
      "metadata": {
        "colab": {
          "base_uri": "https://localhost:8080/"
        },
        "id": "XW5a-K21VJMc",
        "outputId": "559826a4-49b6-4399-a89f-a55c4c2cd35b"
      },
      "execution_count": 64,
      "outputs": [
        {
          "output_type": "execute_result",
          "data": {
            "text/plain": [
              "tensor([[1],\n",
              "        [2],\n",
              "        [3]])"
            ]
          },
          "metadata": {},
          "execution_count": 64
        }
      ]
    },
    {
      "cell_type": "markdown",
      "source": [
        "### Reproducibility"
      ],
      "metadata": {
        "id": "qlBV3O5zrG4M"
      }
    },
    {
      "cell_type": "code",
      "source": [
        "import torch\n",
        "\n",
        "RANDOM_SEED = 42\n",
        "\n",
        "torch.manual_seed(RANDOM_SEED)\n",
        "tensor_a = torch.rand(3, 4)\n",
        "\n",
        "torch.manual_seed(RANDOM_SEED)\n",
        "tensor_b = torch.rand(3, 4)\n",
        "\n",
        "print(tensor_a)\n",
        "print(tensor_b)\n",
        "print(tensor_a == tensor_b)"
      ],
      "metadata": {
        "colab": {
          "base_uri": "https://localhost:8080/"
        },
        "id": "RmNBY5XtVWm0",
        "outputId": "1269f70a-10a0-47e5-b46e-27b8bc874344"
      },
      "execution_count": 65,
      "outputs": [
        {
          "output_type": "stream",
          "name": "stdout",
          "text": [
            "tensor([[0.8823, 0.9150, 0.3829, 0.9593],\n",
            "        [0.3904, 0.6009, 0.2566, 0.7936],\n",
            "        [0.9408, 0.1332, 0.9346, 0.5936]])\n",
            "tensor([[0.8823, 0.9150, 0.3829, 0.9593],\n",
            "        [0.3904, 0.6009, 0.2566, 0.7936],\n",
            "        [0.9408, 0.1332, 0.9346, 0.5936]])\n",
            "tensor([[True, True, True, True],\n",
            "        [True, True, True, True],\n",
            "        [True, True, True, True]])\n"
          ]
        }
      ]
    },
    {
      "cell_type": "markdown",
      "source": [
        "### GPU usage"
      ],
      "metadata": {
        "id": "aRPyuxcks-Mw"
      }
    },
    {
      "cell_type": "code",
      "source": [
        "!nvidia-smi"
      ],
      "metadata": {
        "colab": {
          "base_uri": "https://localhost:8080/"
        },
        "id": "d6JrK04ereLF",
        "outputId": "f3ce455c-4739-428d-96f3-8a33c0af4474"
      },
      "execution_count": 66,
      "outputs": [
        {
          "output_type": "stream",
          "name": "stdout",
          "text": [
            "Tue Feb 28 11:13:50 2023       \n",
            "+-----------------------------------------------------------------------------+\n",
            "| NVIDIA-SMI 525.85.12    Driver Version: 525.85.12    CUDA Version: 12.0     |\n",
            "|-------------------------------+----------------------+----------------------+\n",
            "| GPU  Name        Persistence-M| Bus-Id        Disp.A | Volatile Uncorr. ECC |\n",
            "| Fan  Temp  Perf  Pwr:Usage/Cap|         Memory-Usage | GPU-Util  Compute M. |\n",
            "|                               |                      |               MIG M. |\n",
            "|===============================+======================+======================|\n",
            "|   0  Tesla T4            Off  | 00000000:00:04.0 Off |                    0 |\n",
            "| N/A   59C    P0    31W /  70W |      0MiB / 15360MiB |      0%      Default |\n",
            "|                               |                      |                  N/A |\n",
            "+-------------------------------+----------------------+----------------------+\n",
            "                                                                               \n",
            "+-----------------------------------------------------------------------------+\n",
            "| Processes:                                                                  |\n",
            "|  GPU   GI   CI        PID   Type   Process name                  GPU Memory |\n",
            "|        ID   ID                                                   Usage      |\n",
            "|=============================================================================|\n",
            "|  No running processes found                                                 |\n",
            "+-----------------------------------------------------------------------------+\n"
          ]
        }
      ]
    },
    {
      "cell_type": "code",
      "source": [
        "torch.cuda.is_available()"
      ],
      "metadata": {
        "colab": {
          "base_uri": "https://localhost:8080/"
        },
        "id": "Mbn1C3qzuZ1h",
        "outputId": "e7f13f39-71f8-47eb-bac0-564e6adb52e9"
      },
      "execution_count": 68,
      "outputs": [
        {
          "output_type": "execute_result",
          "data": {
            "text/plain": [
              "True"
            ]
          },
          "metadata": {},
          "execution_count": 68
        }
      ]
    },
    {
      "cell_type": "code",
      "source": [
        "DEVICE = \"cuda\" if torch.cuda.is_available() else \"cpu\""
      ],
      "metadata": {
        "id": "MBBq33OgvHUm"
      },
      "execution_count": 69,
      "outputs": []
    },
    {
      "cell_type": "code",
      "source": [
        "tensor = torch.tensor(data=[1, 2, 3], device = DEVICE)\n",
        "tensor"
      ],
      "metadata": {
        "colab": {
          "base_uri": "https://localhost:8080/"
        },
        "id": "H5lbeXqJvXZH",
        "outputId": "b272e6cb-82dc-4fca-f799-2a674f2a8c41"
      },
      "execution_count": 70,
      "outputs": [
        {
          "output_type": "execute_result",
          "data": {
            "text/plain": [
              "tensor([1, 2, 3], device='cuda:0')"
            ]
          },
          "metadata": {},
          "execution_count": 70
        }
      ]
    },
    {
      "cell_type": "code",
      "source": [
        "torch.cuda.device_count()"
      ],
      "metadata": {
        "colab": {
          "base_uri": "https://localhost:8080/"
        },
        "id": "XaZ5escFvlPX",
        "outputId": "94b8c19d-0678-4c6e-f629-d6a77de746df"
      },
      "execution_count": 71,
      "outputs": [
        {
          "output_type": "execute_result",
          "data": {
            "text/plain": [
              "1"
            ]
          },
          "metadata": {},
          "execution_count": 71
        }
      ]
    },
    {
      "cell_type": "code",
      "source": [
        "cpu_tensor = tensor.to(\"cpu\")\n",
        "cpu_tensor, cpu_tensor.device"
      ],
      "metadata": {
        "colab": {
          "base_uri": "https://localhost:8080/"
        },
        "id": "E_gkl91Bv2Ue",
        "outputId": "ac95e24a-c3dd-491b-83f5-3410e100723e"
      },
      "execution_count": 73,
      "outputs": [
        {
          "output_type": "execute_result",
          "data": {
            "text/plain": [
              "(tensor([1, 2, 3]), device(type='cpu'))"
            ]
          },
          "metadata": {},
          "execution_count": 73
        }
      ]
    },
    {
      "cell_type": "code",
      "source": [],
      "metadata": {
        "id": "ypDjv94-wtwF"
      },
      "execution_count": null,
      "outputs": []
    }
  ]
}