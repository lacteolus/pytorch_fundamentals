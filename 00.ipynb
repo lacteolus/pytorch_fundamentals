{
  "nbformat": 4,
  "nbformat_minor": 0,
  "metadata": {
    "colab": {
      "provenance": [],
      "authorship_tag": "ABX9TyM7ToFoDQiMLbVXliwKQ0k2",
      "include_colab_link": true
    },
    "kernelspec": {
      "name": "python3",
      "display_name": "Python 3"
    },
    "language_info": {
      "name": "python"
    },
    "gpuClass": "standard"
  },
  "cells": [
    {
      "cell_type": "markdown",
      "metadata": {
        "id": "view-in-github",
        "colab_type": "text"
      },
      "source": [
        "<a href=\"https://colab.research.google.com/github/lacteolus/pytorch_fundamentals/blob/master/00.ipynb\" target=\"_parent\"><img src=\"https://colab.research.google.com/assets/colab-badge.svg\" alt=\"Open In Colab\"/></a>"
      ]
    },
    {
      "cell_type": "code",
      "execution_count": 1,
      "metadata": {
        "colab": {
          "base_uri": "https://localhost:8080/"
        },
        "id": "cGqWlDWv59-m",
        "outputId": "248ff109-1ec3-4d95-a8f1-d62022dcffba"
      },
      "outputs": [
        {
          "output_type": "stream",
          "name": "stdout",
          "text": [
            "1.13.1+cu116\n"
          ]
        }
      ],
      "source": [
        "import torch\n",
        "import numpy as np\n",
        "import pandas as pd\n",
        "import matplotlib.pyplot as plt\n",
        "print(torch.__version__)"
      ]
    },
    {
      "cell_type": "markdown",
      "source": [
        "## Tensors"
      ],
      "metadata": {
        "id": "lKCVtKK6SKwN"
      }
    },
    {
      "cell_type": "markdown",
      "source": [
        "### Scalar"
      ],
      "metadata": {
        "id": "RT-W4PrbTgap"
      }
    },
    {
      "cell_type": "code",
      "source": [
        "scalar = torch.tensor(7)\n",
        "scalar"
      ],
      "metadata": {
        "colab": {
          "base_uri": "https://localhost:8080/"
        },
        "id": "h-mG-axHSP9V",
        "outputId": "a902dc20-7033-4a88-9e09-a82c9966eb00"
      },
      "execution_count": 2,
      "outputs": [
        {
          "output_type": "execute_result",
          "data": {
            "text/plain": [
              "tensor(7)"
            ]
          },
          "metadata": {},
          "execution_count": 2
        }
      ]
    },
    {
      "cell_type": "code",
      "source": [
        "scalar.ndim"
      ],
      "metadata": {
        "colab": {
          "base_uri": "https://localhost:8080/"
        },
        "id": "qzuL5VJQSYg_",
        "outputId": "b88873cf-d08b-4b7a-e4e3-8e28810fd757"
      },
      "execution_count": 3,
      "outputs": [
        {
          "output_type": "execute_result",
          "data": {
            "text/plain": [
              "0"
            ]
          },
          "metadata": {},
          "execution_count": 3
        }
      ]
    },
    {
      "cell_type": "code",
      "source": [
        "scalar.item()"
      ],
      "metadata": {
        "colab": {
          "base_uri": "https://localhost:8080/"
        },
        "id": "DNHr6ndDSomu",
        "outputId": "f7713b98-2232-41e0-a2bf-8a980f5c405f"
      },
      "execution_count": 4,
      "outputs": [
        {
          "output_type": "execute_result",
          "data": {
            "text/plain": [
              "7"
            ]
          },
          "metadata": {},
          "execution_count": 4
        }
      ]
    },
    {
      "cell_type": "markdown",
      "source": [
        "### Vector"
      ],
      "metadata": {
        "id": "acjO-FdMTkXJ"
      }
    },
    {
      "cell_type": "code",
      "source": [
        "vector = torch.tensor([7, 7])\n",
        "vector"
      ],
      "metadata": {
        "colab": {
          "base_uri": "https://localhost:8080/"
        },
        "id": "DpdsueAZTANp",
        "outputId": "28d281a3-3e3b-4325-dff6-26253af658f0"
      },
      "execution_count": 5,
      "outputs": [
        {
          "output_type": "execute_result",
          "data": {
            "text/plain": [
              "tensor([7, 7])"
            ]
          },
          "metadata": {},
          "execution_count": 5
        }
      ]
    },
    {
      "cell_type": "code",
      "source": [
        "vector.ndim"
      ],
      "metadata": {
        "colab": {
          "base_uri": "https://localhost:8080/"
        },
        "id": "_Z1DJJZCTJy_",
        "outputId": "a49f3123-339e-412b-8f93-e62b6a7eca7a"
      },
      "execution_count": 6,
      "outputs": [
        {
          "output_type": "execute_result",
          "data": {
            "text/plain": [
              "1"
            ]
          },
          "metadata": {},
          "execution_count": 6
        }
      ]
    },
    {
      "cell_type": "code",
      "source": [
        "vector.shape"
      ],
      "metadata": {
        "colab": {
          "base_uri": "https://localhost:8080/"
        },
        "id": "epH-H0L2TVdf",
        "outputId": "35383757-a260-4f6e-b562-01f4631175b3"
      },
      "execution_count": 7,
      "outputs": [
        {
          "output_type": "execute_result",
          "data": {
            "text/plain": [
              "torch.Size([2])"
            ]
          },
          "metadata": {},
          "execution_count": 7
        }
      ]
    },
    {
      "cell_type": "markdown",
      "source": [
        "### Matrix"
      ],
      "metadata": {
        "id": "4Pzf9-1zTpk-"
      }
    },
    {
      "cell_type": "code",
      "source": [
        "matrix = torch.tensor([[7, 7], [7, 7]])\n",
        "matrix"
      ],
      "metadata": {
        "colab": {
          "base_uri": "https://localhost:8080/"
        },
        "id": "SEhHtoWLTY5Q",
        "outputId": "baef2e0d-9829-4313-c5a4-517187f7a542"
      },
      "execution_count": 8,
      "outputs": [
        {
          "output_type": "execute_result",
          "data": {
            "text/plain": [
              "tensor([[7, 7],\n",
              "        [7, 7]])"
            ]
          },
          "metadata": {},
          "execution_count": 8
        }
      ]
    },
    {
      "cell_type": "code",
      "source": [
        "matrix.ndim"
      ],
      "metadata": {
        "colab": {
          "base_uri": "https://localhost:8080/"
        },
        "id": "-QZ4VmBqT0l1",
        "outputId": "2a037278-d57d-46c1-da53-aeb7b7305e9d"
      },
      "execution_count": 9,
      "outputs": [
        {
          "output_type": "execute_result",
          "data": {
            "text/plain": [
              "2"
            ]
          },
          "metadata": {},
          "execution_count": 9
        }
      ]
    },
    {
      "cell_type": "code",
      "source": [
        "matrix.shape"
      ],
      "metadata": {
        "colab": {
          "base_uri": "https://localhost:8080/"
        },
        "id": "ZyllabGAT7sH",
        "outputId": "61890bd3-18f1-485b-d852-ef957f00f1be"
      },
      "execution_count": 10,
      "outputs": [
        {
          "output_type": "execute_result",
          "data": {
            "text/plain": [
              "torch.Size([2, 2])"
            ]
          },
          "metadata": {},
          "execution_count": 10
        }
      ]
    },
    {
      "cell_type": "markdown",
      "source": [
        "## Tensor"
      ],
      "metadata": {
        "id": "JPLq8ilfUYM1"
      }
    },
    {
      "cell_type": "code",
      "source": [
        "tensor = torch.tensor([[[1, 2, 3], [4, 5, 6], [7, 8, 9]]])\n",
        "tensor"
      ],
      "metadata": {
        "colab": {
          "base_uri": "https://localhost:8080/"
        },
        "id": "EreHpT-2T-je",
        "outputId": "d4368f49-6f56-407f-a35f-1d9f9b52d68f"
      },
      "execution_count": 11,
      "outputs": [
        {
          "output_type": "execute_result",
          "data": {
            "text/plain": [
              "tensor([[[1, 2, 3],\n",
              "         [4, 5, 6],\n",
              "         [7, 8, 9]]])"
            ]
          },
          "metadata": {},
          "execution_count": 11
        }
      ]
    },
    {
      "cell_type": "code",
      "source": [
        "tensor.ndim"
      ],
      "metadata": {
        "colab": {
          "base_uri": "https://localhost:8080/"
        },
        "id": "N9tNCKMoUien",
        "outputId": "f647b444-2eb4-442a-9f41-a748e379b8f1"
      },
      "execution_count": 12,
      "outputs": [
        {
          "output_type": "execute_result",
          "data": {
            "text/plain": [
              "3"
            ]
          },
          "metadata": {},
          "execution_count": 12
        }
      ]
    },
    {
      "cell_type": "code",
      "source": [
        "tensor.shape"
      ],
      "metadata": {
        "colab": {
          "base_uri": "https://localhost:8080/"
        },
        "id": "KEENDpplUmbU",
        "outputId": "ffaac781-17d5-44a4-d449-e81dc79182f7"
      },
      "execution_count": 13,
      "outputs": [
        {
          "output_type": "execute_result",
          "data": {
            "text/plain": [
              "torch.Size([1, 3, 3])"
            ]
          },
          "metadata": {},
          "execution_count": 13
        }
      ]
    },
    {
      "cell_type": "code",
      "source": [
        "tensor[0, 1]"
      ],
      "metadata": {
        "colab": {
          "base_uri": "https://localhost:8080/"
        },
        "id": "aZnjsrkTUodN",
        "outputId": "12c61941-9168-4e7a-80a5-96e56efabf20"
      },
      "execution_count": 14,
      "outputs": [
        {
          "output_type": "execute_result",
          "data": {
            "text/plain": [
              "tensor([4, 5, 6])"
            ]
          },
          "metadata": {},
          "execution_count": 14
        }
      ]
    },
    {
      "cell_type": "code",
      "source": [
        "tensor[0][1]"
      ],
      "metadata": {
        "colab": {
          "base_uri": "https://localhost:8080/"
        },
        "id": "rBfuAllWVETO",
        "outputId": "35e4cfaa-fed5-4a24-f24e-a87ca49efa1a"
      },
      "execution_count": 15,
      "outputs": [
        {
          "output_type": "execute_result",
          "data": {
            "text/plain": [
              "tensor([4, 5, 6])"
            ]
          },
          "metadata": {},
          "execution_count": 15
        }
      ]
    },
    {
      "cell_type": "markdown",
      "source": [
        "### Random tensors"
      ],
      "metadata": {
        "id": "vIh7K9JYV31E"
      }
    },
    {
      "cell_type": "code",
      "source": [
        "rnd_tensor = torch.rand(2, 3, 4)\n",
        "rnd_tensor"
      ],
      "metadata": {
        "colab": {
          "base_uri": "https://localhost:8080/"
        },
        "id": "Lid-M_fVVaIW",
        "outputId": "4b0a922c-8948-4d4f-c77d-e7828db9c64a"
      },
      "execution_count": 16,
      "outputs": [
        {
          "output_type": "execute_result",
          "data": {
            "text/plain": [
              "tensor([[[0.0507, 0.2282, 0.7660, 0.4646],\n",
              "         [0.9800, 0.5590, 0.4768, 0.9500],\n",
              "         [0.6142, 0.8850, 0.0378, 0.0153]],\n",
              "\n",
              "        [[0.3111, 0.8532, 0.4995, 0.7674],\n",
              "         [0.8769, 0.1041, 0.4825, 0.7249],\n",
              "         [0.1631, 0.4167, 0.7172, 0.8543]]])"
            ]
          },
          "metadata": {},
          "execution_count": 16
        }
      ]
    },
    {
      "cell_type": "code",
      "source": [
        "rnd_tensor.ndim"
      ],
      "metadata": {
        "colab": {
          "base_uri": "https://localhost:8080/"
        },
        "id": "jdCD9x1IWtR8",
        "outputId": "3c2aef7d-5584-4580-8933-3e36ec2fc006"
      },
      "execution_count": 17,
      "outputs": [
        {
          "output_type": "execute_result",
          "data": {
            "text/plain": [
              "3"
            ]
          },
          "metadata": {},
          "execution_count": 17
        }
      ]
    },
    {
      "cell_type": "code",
      "source": [
        "rnd_tensor.shape"
      ],
      "metadata": {
        "colab": {
          "base_uri": "https://localhost:8080/"
        },
        "id": "FrUjZ5UFXKKb",
        "outputId": "76e60f6a-b168-4d0e-c9c1-cc57076bf6e5"
      },
      "execution_count": 18,
      "outputs": [
        {
          "output_type": "execute_result",
          "data": {
            "text/plain": [
              "torch.Size([2, 3, 4])"
            ]
          },
          "metadata": {},
          "execution_count": 18
        }
      ]
    },
    {
      "cell_type": "code",
      "source": [
        "img_tensor = torch.rand(size=(3, 200, 200))\n",
        "img_tensor"
      ],
      "metadata": {
        "colab": {
          "base_uri": "https://localhost:8080/"
        },
        "id": "0bLc1VzRXV0B",
        "outputId": "388bc763-b514-4b86-f524-c5a49278467a"
      },
      "execution_count": 19,
      "outputs": [
        {
          "output_type": "execute_result",
          "data": {
            "text/plain": [
              "tensor([[[7.2082e-01, 7.3915e-01, 6.8625e-01,  ..., 2.6586e-01,\n",
              "          9.8726e-02, 5.1784e-01],\n",
              "         [8.5382e-01, 8.7187e-01, 8.4516e-02,  ..., 8.7783e-01,\n",
              "          7.8654e-01, 1.6244e-01],\n",
              "         [9.5578e-02, 3.5135e-01, 4.3556e-01,  ..., 4.8182e-01,\n",
              "          6.2323e-01, 3.3464e-01],\n",
              "         ...,\n",
              "         [5.5674e-02, 6.8056e-01, 5.9714e-01,  ..., 5.1661e-01,\n",
              "          7.9081e-01, 4.9223e-02],\n",
              "         [7.9676e-01, 2.4081e-01, 1.1052e-02,  ..., 6.2790e-02,\n",
              "          6.5945e-01, 6.3795e-04],\n",
              "         [3.7957e-03, 6.3379e-02, 9.7713e-01,  ..., 3.9882e-01,\n",
              "          6.4168e-01, 4.2326e-02]],\n",
              "\n",
              "        [[9.8215e-01, 1.3440e-01, 6.4491e-02,  ..., 9.8284e-01,\n",
              "          6.4815e-02, 4.2886e-01],\n",
              "         [3.6609e-01, 5.9562e-01, 6.8277e-01,  ..., 3.1573e-01,\n",
              "          8.6145e-01, 8.2160e-01],\n",
              "         [3.9090e-01, 5.9872e-01, 9.5910e-01,  ..., 3.4943e-01,\n",
              "          3.5577e-01, 3.2067e-02],\n",
              "         ...,\n",
              "         [8.6544e-01, 5.1430e-01, 5.7839e-01,  ..., 4.6533e-01,\n",
              "          8.9660e-01, 6.4554e-01],\n",
              "         [1.0387e-01, 5.0756e-01, 2.8181e-01,  ..., 5.4534e-01,\n",
              "          8.9045e-01, 1.5254e-01],\n",
              "         [2.7537e-01, 9.2602e-01, 3.8136e-01,  ..., 8.6769e-01,\n",
              "          8.5996e-01, 7.2256e-01]],\n",
              "\n",
              "        [[2.5172e-03, 9.0520e-01, 2.4277e-01,  ..., 3.3546e-02,\n",
              "          8.2393e-01, 2.5835e-01],\n",
              "         [7.1500e-01, 8.1826e-01, 9.0593e-01,  ..., 6.8378e-01,\n",
              "          4.8602e-01, 5.6711e-02],\n",
              "         [5.8607e-01, 5.5058e-01, 4.1201e-01,  ..., 8.5687e-01,\n",
              "          2.9844e-01, 3.7249e-01],\n",
              "         ...,\n",
              "         [7.4978e-01, 4.8430e-01, 5.7407e-01,  ..., 2.1178e-01,\n",
              "          1.3256e-01, 7.3296e-01],\n",
              "         [7.7629e-01, 7.7922e-01, 2.1331e-01,  ..., 8.7303e-01,\n",
              "          7.4791e-01, 2.3262e-01],\n",
              "         [7.9870e-01, 4.9539e-01, 7.5382e-02,  ..., 9.4284e-02,\n",
              "          9.2179e-01, 3.6013e-02]]])"
            ]
          },
          "metadata": {},
          "execution_count": 19
        }
      ]
    },
    {
      "cell_type": "code",
      "source": [
        "img_tensor.ndim, img_tensor.shape"
      ],
      "metadata": {
        "colab": {
          "base_uri": "https://localhost:8080/"
        },
        "id": "xL6mAiCqYQro",
        "outputId": "677a5d46-c050-4da1-c84e-359eee4a3814"
      },
      "execution_count": 20,
      "outputs": [
        {
          "output_type": "execute_result",
          "data": {
            "text/plain": [
              "(3, torch.Size([3, 200, 200]))"
            ]
          },
          "metadata": {},
          "execution_count": 20
        }
      ]
    },
    {
      "cell_type": "code",
      "source": [
        "img_tensor[0, 0]"
      ],
      "metadata": {
        "colab": {
          "base_uri": "https://localhost:8080/"
        },
        "id": "JJqHjO90Yaow",
        "outputId": "57dc0655-9eb0-4cbd-b812-b94501be0eda"
      },
      "execution_count": 21,
      "outputs": [
        {
          "output_type": "execute_result",
          "data": {
            "text/plain": [
              "tensor([0.7208, 0.7391, 0.6863, 0.0877, 0.8546, 0.5720, 0.4437, 0.7060, 0.7219,\n",
              "        0.0307, 0.2009, 0.8059, 0.3666, 0.1863, 0.0905, 0.2316, 0.4074, 0.0744,\n",
              "        0.4532, 0.4242, 0.0859, 0.2640, 0.2726, 0.7846, 0.1766, 0.6821, 0.2011,\n",
              "        0.4479, 0.1624, 0.3288, 0.4942, 0.8995, 0.9857, 0.9091, 0.3228, 0.2629,\n",
              "        0.5401, 0.2282, 0.9874, 0.5077, 0.7144, 0.5487, 0.5202, 0.5471, 0.7761,\n",
              "        0.9901, 0.5625, 0.8335, 0.6639, 0.2501, 0.2913, 0.7074, 0.0459, 0.9933,\n",
              "        0.8698, 0.7045, 0.0884, 0.0609, 0.0521, 0.4826, 0.6494, 0.9105, 0.7357,\n",
              "        0.9217, 0.3209, 0.1721, 0.1257, 0.5381, 0.6672, 0.2880, 0.0820, 0.9045,\n",
              "        0.4388, 0.3483, 0.7692, 0.2368, 0.4361, 0.7377, 0.6271, 0.7854, 0.4356,\n",
              "        0.7134, 0.5426, 0.4074, 0.0665, 0.1242, 0.8814, 0.2834, 0.2481, 0.2230,\n",
              "        0.8151, 0.5492, 0.7419, 0.9235, 0.8300, 0.9039, 0.6702, 0.8542, 0.9465,\n",
              "        0.2416, 0.3486, 0.0434, 0.1678, 0.2957, 0.6397, 0.0452, 0.8365, 0.3803,\n",
              "        0.6920, 0.0964, 0.9354, 0.0576, 0.2803, 0.0827, 0.2597, 0.6218, 0.0778,\n",
              "        0.0967, 0.3371, 0.5187, 0.3124, 0.4826, 0.7765, 0.3932, 0.2035, 0.8719,\n",
              "        0.8151, 0.2259, 0.6276, 0.1018, 0.4282, 0.8115, 0.4097, 0.1543, 0.5253,\n",
              "        0.8219, 0.5401, 0.8954, 0.7073, 0.8783, 0.4039, 0.1818, 0.0805, 0.1704,\n",
              "        0.6562, 0.9702, 0.4723, 0.6786, 0.6005, 0.8055, 0.0591, 0.1192, 0.6846,\n",
              "        0.6533, 0.1225, 0.6866, 0.6823, 0.6306, 0.7186, 0.1707, 0.6355, 0.6184,\n",
              "        0.6310, 0.1262, 0.7676, 0.9986, 0.5392, 0.5715, 0.2366, 0.7683, 0.8682,\n",
              "        0.6107, 0.2928, 0.0874, 0.9166, 0.6825, 0.5991, 0.6702, 0.3619, 0.6292,\n",
              "        0.3399, 0.4380, 0.1345, 0.7560, 0.4909, 0.3061, 0.0966, 0.9589, 0.7524,\n",
              "        0.0651, 0.2487, 0.7897, 0.1787, 0.6176, 0.9822, 0.7210, 0.8592, 0.2659,\n",
              "        0.0987, 0.5178])"
            ]
          },
          "metadata": {},
          "execution_count": 21
        }
      ]
    },
    {
      "cell_type": "markdown",
      "source": [
        "### Ones and zeroes"
      ],
      "metadata": {
        "id": "7vEA_DjAZN4X"
      }
    },
    {
      "cell_type": "code",
      "source": [
        "ones = torch.ones(size=(2, 2))\n",
        "ones"
      ],
      "metadata": {
        "colab": {
          "base_uri": "https://localhost:8080/"
        },
        "id": "oNjmmkxmYzz_",
        "outputId": "28ed2032-7bf3-4fc2-daf5-f9ea5cc4f750"
      },
      "execution_count": 22,
      "outputs": [
        {
          "output_type": "execute_result",
          "data": {
            "text/plain": [
              "tensor([[1., 1.],\n",
              "        [1., 1.]])"
            ]
          },
          "metadata": {},
          "execution_count": 22
        }
      ]
    },
    {
      "cell_type": "code",
      "source": [
        "ones.dtype"
      ],
      "metadata": {
        "colab": {
          "base_uri": "https://localhost:8080/"
        },
        "id": "7-YD-NaiZkqa",
        "outputId": "1b23b954-67cc-44be-e501-70fbc3c0b808"
      },
      "execution_count": 23,
      "outputs": [
        {
          "output_type": "execute_result",
          "data": {
            "text/plain": [
              "torch.float32"
            ]
          },
          "metadata": {},
          "execution_count": 23
        }
      ]
    },
    {
      "cell_type": "code",
      "source": [
        "zeros = torch.zeros(size=(2, 2))\n",
        "zeros"
      ],
      "metadata": {
        "colab": {
          "base_uri": "https://localhost:8080/"
        },
        "id": "o0y2O5CTZWLH",
        "outputId": "8668b4ec-0921-421c-ed13-963a88ac332c"
      },
      "execution_count": 24,
      "outputs": [
        {
          "output_type": "execute_result",
          "data": {
            "text/plain": [
              "tensor([[0., 0.],\n",
              "        [0., 0.]])"
            ]
          },
          "metadata": {},
          "execution_count": 24
        }
      ]
    },
    {
      "cell_type": "markdown",
      "source": [
        "### Ranges and tensor like"
      ],
      "metadata": {
        "id": "FQ2D4-suZ0mp"
      }
    },
    {
      "cell_type": "code",
      "source": [
        "range_tensor = torch.arange(0, 10, 2)\n",
        "range_tensor"
      ],
      "metadata": {
        "colab": {
          "base_uri": "https://localhost:8080/"
        },
        "id": "hrEuvgxaZbo4",
        "outputId": "831ae060-415e-4547-c8f3-e37a8b5cd22c"
      },
      "execution_count": 25,
      "outputs": [
        {
          "output_type": "execute_result",
          "data": {
            "text/plain": [
              "tensor([0, 2, 4, 6, 8])"
            ]
          },
          "metadata": {},
          "execution_count": 25
        }
      ]
    },
    {
      "cell_type": "code",
      "source": [
        "like_tensor = torch.zeros_like(range_tensor)\n",
        "like_tensor"
      ],
      "metadata": {
        "colab": {
          "base_uri": "https://localhost:8080/"
        },
        "id": "Y2uObfuMaAkd",
        "outputId": "4d1545fe-b18f-423e-d504-2f049143c50c"
      },
      "execution_count": 26,
      "outputs": [
        {
          "output_type": "execute_result",
          "data": {
            "text/plain": [
              "tensor([0, 0, 0, 0, 0])"
            ]
          },
          "metadata": {},
          "execution_count": 26
        }
      ]
    },
    {
      "cell_type": "markdown",
      "source": [
        "### Tensor datatypes"
      ],
      "metadata": {
        "id": "nMBR68rXbBSy"
      }
    },
    {
      "cell_type": "code",
      "source": [
        "float_tensor = torch.tensor([2, 3, 4], dtype=torch.float32)\n",
        "float_tensor"
      ],
      "metadata": {
        "colab": {
          "base_uri": "https://localhost:8080/"
        },
        "id": "ecZI48gtanH-",
        "outputId": "1d5cc762-f761-470a-cc98-555d8bfaac7a"
      },
      "execution_count": 27,
      "outputs": [
        {
          "output_type": "execute_result",
          "data": {
            "text/plain": [
              "tensor([2., 3., 4.])"
            ]
          },
          "metadata": {},
          "execution_count": 27
        }
      ]
    },
    {
      "cell_type": "code",
      "source": [
        "bool_tensor = torch.tensor([0, 3, 4], dtype=torch.bool)\n",
        "bool_tensor"
      ],
      "metadata": {
        "colab": {
          "base_uri": "https://localhost:8080/"
        },
        "id": "Qb_MXOvCbQpN",
        "outputId": "0ad0a9c0-9f1f-4abc-95b6-2d93f4680c72"
      },
      "execution_count": 28,
      "outputs": [
        {
          "output_type": "execute_result",
          "data": {
            "text/plain": [
              "tensor([False,  True,  True])"
            ]
          },
          "metadata": {},
          "execution_count": 28
        }
      ]
    },
    {
      "cell_type": "code",
      "source": [
        "int_tensor = float_tensor.type(torch.int32)\n",
        "int_tensor.dtype"
      ],
      "metadata": {
        "colab": {
          "base_uri": "https://localhost:8080/"
        },
        "id": "dLQjk1bjb7ge",
        "outputId": "bdb804d7-dd57-4902-ec92-060012c54d70"
      },
      "execution_count": 29,
      "outputs": [
        {
          "output_type": "execute_result",
          "data": {
            "text/plain": [
              "torch.int32"
            ]
          },
          "metadata": {},
          "execution_count": 29
        }
      ]
    },
    {
      "cell_type": "code",
      "source": [
        "int_tensor"
      ],
      "metadata": {
        "colab": {
          "base_uri": "https://localhost:8080/"
        },
        "id": "XJaWV3JzdIKs",
        "outputId": "4bb2eea8-a72b-4c60-f565-80fcce0a371c"
      },
      "execution_count": 30,
      "outputs": [
        {
          "output_type": "execute_result",
          "data": {
            "text/plain": [
              "tensor([2, 3, 4], dtype=torch.int32)"
            ]
          },
          "metadata": {},
          "execution_count": 30
        }
      ]
    },
    {
      "cell_type": "code",
      "source": [
        "int_tensor.device"
      ],
      "metadata": {
        "colab": {
          "base_uri": "https://localhost:8080/"
        },
        "id": "qQ1O4-K1dauj",
        "outputId": "2accab4c-0b63-4e30-9940-dc424e6d4573"
      },
      "execution_count": 31,
      "outputs": [
        {
          "output_type": "execute_result",
          "data": {
            "text/plain": [
              "device(type='cpu')"
            ]
          },
          "metadata": {},
          "execution_count": 31
        }
      ]
    },
    {
      "cell_type": "markdown",
      "source": [
        "### Tensors operations"
      ],
      "metadata": {
        "id": "sn-PLhQuFRPr"
      }
    },
    {
      "cell_type": "code",
      "source": [
        "a_tensor = torch.tensor([1, 2, 3])"
      ],
      "metadata": {
        "id": "EhMs1nWHFTOK"
      },
      "execution_count": 32,
      "outputs": []
    },
    {
      "cell_type": "code",
      "source": [
        "a_tensor + 10"
      ],
      "metadata": {
        "colab": {
          "base_uri": "https://localhost:8080/"
        },
        "id": "Fdq_lyXrFrY5",
        "outputId": "47154ce5-0f7e-4f17-8ab1-59b72ff48272"
      },
      "execution_count": 33,
      "outputs": [
        {
          "output_type": "execute_result",
          "data": {
            "text/plain": [
              "tensor([11, 12, 13])"
            ]
          },
          "metadata": {},
          "execution_count": 33
        }
      ]
    },
    {
      "cell_type": "code",
      "source": [
        "a_tensor * 10"
      ],
      "metadata": {
        "colab": {
          "base_uri": "https://localhost:8080/"
        },
        "id": "GgNCMglXFtr4",
        "outputId": "815beb0a-db0e-48fd-bb63-0a9be9704144"
      },
      "execution_count": 34,
      "outputs": [
        {
          "output_type": "execute_result",
          "data": {
            "text/plain": [
              "tensor([10, 20, 30])"
            ]
          },
          "metadata": {},
          "execution_count": 34
        }
      ]
    },
    {
      "cell_type": "code",
      "source": [
        "a_tensor - 10"
      ],
      "metadata": {
        "colab": {
          "base_uri": "https://localhost:8080/"
        },
        "id": "BLPpi_WxF2m3",
        "outputId": "44cc6fd3-37fb-455c-9fc7-81d6f08286e1"
      },
      "execution_count": 35,
      "outputs": [
        {
          "output_type": "execute_result",
          "data": {
            "text/plain": [
              "tensor([-9, -8, -7])"
            ]
          },
          "metadata": {},
          "execution_count": 35
        }
      ]
    },
    {
      "cell_type": "code",
      "source": [
        "a_tensor / 10"
      ],
      "metadata": {
        "colab": {
          "base_uri": "https://localhost:8080/"
        },
        "id": "LluaFRN1GASA",
        "outputId": "4bcd654f-488e-412d-a4ac-8cbc639b30ec"
      },
      "execution_count": 36,
      "outputs": [
        {
          "output_type": "execute_result",
          "data": {
            "text/plain": [
              "tensor([0.1000, 0.2000, 0.3000])"
            ]
          },
          "metadata": {},
          "execution_count": 36
        }
      ]
    },
    {
      "cell_type": "code",
      "source": [
        "b_tensor = torch.tensor([4, 5, 6])"
      ],
      "metadata": {
        "id": "zCWLP4Q9GDQA"
      },
      "execution_count": 38,
      "outputs": []
    },
    {
      "cell_type": "code",
      "source": [
        "# element wise\n",
        "a_tensor * b_tensor"
      ],
      "metadata": {
        "colab": {
          "base_uri": "https://localhost:8080/"
        },
        "id": "slGPXHosGiBv",
        "outputId": "70a81054-fafe-410f-e9ef-4eceac41a2cf"
      },
      "execution_count": 39,
      "outputs": [
        {
          "output_type": "execute_result",
          "data": {
            "text/plain": [
              "tensor([ 4, 10, 18])"
            ]
          },
          "metadata": {},
          "execution_count": 39
        }
      ]
    },
    {
      "cell_type": "code",
      "source": [
        "# matrix\n",
        "torch.matmul(a_tensor, b_tensor)"
      ],
      "metadata": {
        "colab": {
          "base_uri": "https://localhost:8080/"
        },
        "id": "rofAVzVqGlNH",
        "outputId": "c1036976-b2fe-4dae-d7fe-0d4c8c7b09a3"
      },
      "execution_count": 40,
      "outputs": [
        {
          "output_type": "execute_result",
          "data": {
            "text/plain": [
              "tensor(32)"
            ]
          },
          "metadata": {},
          "execution_count": 40
        }
      ]
    },
    {
      "cell_type": "code",
      "source": [
        "tensor_a = torch.tensor([[1, 2], \n",
        "                          [3, 4], \n",
        "                          [5, 6]])"
      ],
      "metadata": {
        "id": "ReQy4ksEHg8W"
      },
      "execution_count": 49,
      "outputs": []
    },
    {
      "cell_type": "code",
      "source": [
        "tensor_a.shape"
      ],
      "metadata": {
        "colab": {
          "base_uri": "https://localhost:8080/"
        },
        "id": "AvAFo9TVOY-U",
        "outputId": "cad67033-2f7c-4328-bb78-6996cb3b3a1c"
      },
      "execution_count": 50,
      "outputs": [
        {
          "output_type": "execute_result",
          "data": {
            "text/plain": [
              "torch.Size([3, 2])"
            ]
          },
          "metadata": {},
          "execution_count": 50
        }
      ]
    },
    {
      "cell_type": "code",
      "source": [
        "tensor_b = torch.tensor([[7, 10], \n",
        "                          [8, 11], \n",
        "                          [9, 12]])"
      ],
      "metadata": {
        "id": "lFFwArtQOAT2"
      },
      "execution_count": 45,
      "outputs": []
    },
    {
      "cell_type": "code",
      "source": [
        "tensor_b.T"
      ],
      "metadata": {
        "colab": {
          "base_uri": "https://localhost:8080/"
        },
        "id": "kVnwkuBoONWl",
        "outputId": "90052181-d3a2-4a2d-a666-694a20b6c3d3"
      },
      "execution_count": 46,
      "outputs": [
        {
          "output_type": "execute_result",
          "data": {
            "text/plain": [
              "tensor([[ 7,  8,  9],\n",
              "        [10, 11, 12]])"
            ]
          },
          "metadata": {},
          "execution_count": 46
        }
      ]
    },
    {
      "cell_type": "code",
      "source": [
        "tensor_b.T.shape"
      ],
      "metadata": {
        "colab": {
          "base_uri": "https://localhost:8080/"
        },
        "id": "ggMGgdHrOPWd",
        "outputId": "e3246423-f914-415f-8436-ee94c8b3c2dd"
      },
      "execution_count": 47,
      "outputs": [
        {
          "output_type": "execute_result",
          "data": {
            "text/plain": [
              "torch.Size([2, 3])"
            ]
          },
          "metadata": {},
          "execution_count": 47
        }
      ]
    },
    {
      "cell_type": "code",
      "source": [
        "tensor_a @ tensor_b.T"
      ],
      "metadata": {
        "colab": {
          "base_uri": "https://localhost:8080/"
        },
        "id": "y17gqzhhOSON",
        "outputId": "703b2572-3886-4225-d104-81f1efd7c3f5"
      },
      "execution_count": 52,
      "outputs": [
        {
          "output_type": "execute_result",
          "data": {
            "text/plain": [
              "tensor([[ 27,  30,  33],\n",
              "        [ 61,  68,  75],\n",
              "        [ 95, 106, 117]])"
            ]
          },
          "metadata": {},
          "execution_count": 52
        }
      ]
    },
    {
      "cell_type": "markdown",
      "source": [
        "### Tensor aggregation"
      ],
      "metadata": {
        "id": "BJhFmiIlO3vd"
      }
    },
    {
      "cell_type": "code",
      "source": [
        "tensor = torch.arange(1, 100, 3)"
      ],
      "metadata": {
        "id": "0JhpnrQ2OqtW"
      },
      "execution_count": 66,
      "outputs": []
    },
    {
      "cell_type": "code",
      "source": [
        "tensor.min()"
      ],
      "metadata": {
        "colab": {
          "base_uri": "https://localhost:8080/"
        },
        "id": "DcX30WD7PABd",
        "outputId": "3cff8bd1-4c2a-403d-c00e-85f02cf2d6c1"
      },
      "execution_count": 67,
      "outputs": [
        {
          "output_type": "execute_result",
          "data": {
            "text/plain": [
              "tensor(1)"
            ]
          },
          "metadata": {},
          "execution_count": 67
        }
      ]
    },
    {
      "cell_type": "code",
      "source": [
        "tensor.max()"
      ],
      "metadata": {
        "colab": {
          "base_uri": "https://localhost:8080/"
        },
        "id": "TlMBUv4SPBxV",
        "outputId": "d401ca64-758c-4aa4-f5cd-c15067f1db75"
      },
      "execution_count": 68,
      "outputs": [
        {
          "output_type": "execute_result",
          "data": {
            "text/plain": [
              "tensor(97)"
            ]
          },
          "metadata": {},
          "execution_count": 68
        }
      ]
    },
    {
      "cell_type": "code",
      "source": [
        "tensor = tensor.type(torch.float32)\n",
        "torch.mean(tensor)"
      ],
      "metadata": {
        "colab": {
          "base_uri": "https://localhost:8080/"
        },
        "id": "cf1PYQZrPEJ-",
        "outputId": "d0230d84-18fd-4a6e-ceb7-1937c02e3805"
      },
      "execution_count": 69,
      "outputs": [
        {
          "output_type": "execute_result",
          "data": {
            "text/plain": [
              "tensor(49.)"
            ]
          },
          "metadata": {},
          "execution_count": 69
        }
      ]
    },
    {
      "cell_type": "code",
      "source": [
        "tensor.sum()"
      ],
      "metadata": {
        "colab": {
          "base_uri": "https://localhost:8080/"
        },
        "id": "x-1-FvLyPK_-",
        "outputId": "dbe80dc6-32aa-4ce2-bbe7-4cc36dc6da07"
      },
      "execution_count": 70,
      "outputs": [
        {
          "output_type": "execute_result",
          "data": {
            "text/plain": [
              "tensor(1617.)"
            ]
          },
          "metadata": {},
          "execution_count": 70
        }
      ]
    },
    {
      "cell_type": "code",
      "source": [
        "tensor.argmin()"
      ],
      "metadata": {
        "colab": {
          "base_uri": "https://localhost:8080/"
        },
        "id": "nIJGOhttP55b",
        "outputId": "50d00549-3066-43bf-91a7-83cd3c4ad3e5"
      },
      "execution_count": 71,
      "outputs": [
        {
          "output_type": "execute_result",
          "data": {
            "text/plain": [
              "tensor(0)"
            ]
          },
          "metadata": {},
          "execution_count": 71
        }
      ]
    },
    {
      "cell_type": "code",
      "source": [
        "tensor.argmax()"
      ],
      "metadata": {
        "colab": {
          "base_uri": "https://localhost:8080/"
        },
        "id": "kkThV1PGQeX9",
        "outputId": "ee7ba70d-26f6-42eb-8b9e-9c6ba6c5107a"
      },
      "execution_count": 72,
      "outputs": [
        {
          "output_type": "execute_result",
          "data": {
            "text/plain": [
              "tensor(32)"
            ]
          },
          "metadata": {},
          "execution_count": 72
        }
      ]
    },
    {
      "cell_type": "code",
      "source": [
        "tensor[13]"
      ],
      "metadata": {
        "colab": {
          "base_uri": "https://localhost:8080/"
        },
        "id": "2Mk34dRmQgD7",
        "outputId": "d719f9e9-c910-47b1-8dcd-defb6c9d8e6b"
      },
      "execution_count": 73,
      "outputs": [
        {
          "output_type": "execute_result",
          "data": {
            "text/plain": [
              "tensor(40.)"
            ]
          },
          "metadata": {},
          "execution_count": 73
        }
      ]
    },
    {
      "cell_type": "markdown",
      "source": [
        "### Reshape, stack, squeeze, unsqueeze"
      ],
      "metadata": {
        "id": "eisgxZ2DRVCp"
      }
    },
    {
      "cell_type": "code",
      "source": [
        "tensor = torch.arange(1, 10)"
      ],
      "metadata": {
        "id": "XcNlgLBlQzI5"
      },
      "execution_count": 94,
      "outputs": []
    },
    {
      "cell_type": "code",
      "source": [
        "tensor, tensor.shape"
      ],
      "metadata": {
        "colab": {
          "base_uri": "https://localhost:8080/"
        },
        "id": "DkaAn4kJSMRb",
        "outputId": "51da0e80-6b2b-452e-99cb-b9108419577b"
      },
      "execution_count": 75,
      "outputs": [
        {
          "output_type": "execute_result",
          "data": {
            "text/plain": [
              "(tensor([1, 2, 3, 4, 5, 6, 7, 8, 9]), torch.Size([9]))"
            ]
          },
          "metadata": {},
          "execution_count": 75
        }
      ]
    },
    {
      "cell_type": "code",
      "source": [
        "new_tensor = tensor.reshape(3, 3)\n",
        "new_tensor, new_tensor.shape"
      ],
      "metadata": {
        "colab": {
          "base_uri": "https://localhost:8080/"
        },
        "id": "0WSOh2HmSPwJ",
        "outputId": "9cc03734-88f5-43b8-c8f0-ffdd0b772167"
      },
      "execution_count": 82,
      "outputs": [
        {
          "output_type": "execute_result",
          "data": {
            "text/plain": [
              "(tensor([[1, 2, 3],\n",
              "         [4, 5, 6],\n",
              "         [7, 8, 9]]), torch.Size([3, 3]))"
            ]
          },
          "metadata": {},
          "execution_count": 82
        }
      ]
    },
    {
      "cell_type": "code",
      "source": [
        "v_tensor = tensor.view(1, 9)\n",
        "v_tensor"
      ],
      "metadata": {
        "colab": {
          "base_uri": "https://localhost:8080/"
        },
        "id": "iTgv91bbSbQA",
        "outputId": "65eb5e32-e8d2-4667-c7a8-739818560b2d"
      },
      "execution_count": 95,
      "outputs": [
        {
          "output_type": "execute_result",
          "data": {
            "text/plain": [
              "tensor([[1, 2, 3, 4, 5, 6, 7, 8, 9]])"
            ]
          },
          "metadata": {},
          "execution_count": 95
        }
      ]
    },
    {
      "cell_type": "code",
      "source": [
        "v_tensor[:, 0] = 5\n",
        "v_tensor"
      ],
      "metadata": {
        "colab": {
          "base_uri": "https://localhost:8080/"
        },
        "id": "XHHYM-pgTLNw",
        "outputId": "4b40de34-ef92-4afc-d51f-c156d941df81"
      },
      "execution_count": 96,
      "outputs": [
        {
          "output_type": "execute_result",
          "data": {
            "text/plain": [
              "tensor([[5, 2, 3, 4, 5, 6, 7, 8, 9]])"
            ]
          },
          "metadata": {},
          "execution_count": 96
        }
      ]
    },
    {
      "cell_type": "code",
      "source": [
        "tensor"
      ],
      "metadata": {
        "colab": {
          "base_uri": "https://localhost:8080/"
        },
        "id": "rWNzfM2yTXd5",
        "outputId": "98c47ada-9a13-4a8a-faeb-13084df69dc0"
      },
      "execution_count": 97,
      "outputs": [
        {
          "output_type": "execute_result",
          "data": {
            "text/plain": [
              "tensor([5, 2, 3, 4, 5, 6, 7, 8, 9])"
            ]
          },
          "metadata": {},
          "execution_count": 97
        }
      ]
    },
    {
      "cell_type": "code",
      "source": [
        "s_tensor = torch.stack([tensor, tensor], dim=1)\n",
        "s_tensor"
      ],
      "metadata": {
        "colab": {
          "base_uri": "https://localhost:8080/"
        },
        "id": "1kPKVCO1Tuop",
        "outputId": "d173a543-8d43-4a4b-def3-8070b80a3815"
      },
      "execution_count": 99,
      "outputs": [
        {
          "output_type": "execute_result",
          "data": {
            "text/plain": [
              "tensor([[5, 5],\n",
              "        [2, 2],\n",
              "        [3, 3],\n",
              "        [4, 4],\n",
              "        [5, 5],\n",
              "        [6, 6],\n",
              "        [7, 7],\n",
              "        [8, 8],\n",
              "        [9, 9]])"
            ]
          },
          "metadata": {},
          "execution_count": 99
        }
      ]
    },
    {
      "cell_type": "code",
      "source": [
        "s_tensor = torch.stack([tensor, tensor], dim=0)\n",
        "s_tensor"
      ],
      "metadata": {
        "colab": {
          "base_uri": "https://localhost:8080/"
        },
        "id": "XJXmv3MtT6A-",
        "outputId": "3d9bee07-0770-41d1-a533-5a38feb1cb08"
      },
      "execution_count": 100,
      "outputs": [
        {
          "output_type": "execute_result",
          "data": {
            "text/plain": [
              "tensor([[5, 2, 3, 4, 5, 6, 7, 8, 9],\n",
              "        [5, 2, 3, 4, 5, 6, 7, 8, 9]])"
            ]
          },
          "metadata": {},
          "execution_count": 100
        }
      ]
    },
    {
      "cell_type": "code",
      "source": [
        "tensor = torch.tensor([[1, 2, 3]])\n",
        "tensor.shape"
      ],
      "metadata": {
        "colab": {
          "base_uri": "https://localhost:8080/"
        },
        "id": "Aanq-bXgUODg",
        "outputId": "19c31254-47cc-4abd-9f5d-11f0e66a069a"
      },
      "execution_count": 109,
      "outputs": [
        {
          "output_type": "execute_result",
          "data": {
            "text/plain": [
              "torch.Size([1, 3])"
            ]
          },
          "metadata": {},
          "execution_count": 109
        }
      ]
    },
    {
      "cell_type": "code",
      "source": [
        "ss_tensor = torch.squeeze(tensor)\n",
        "ss_tensor\n",
        "ss_tensor.shape"
      ],
      "metadata": {
        "colab": {
          "base_uri": "https://localhost:8080/"
        },
        "id": "rDQXQBfmUaId",
        "outputId": "f22951f9-68d0-4c32-dfaf-84aa8a58100d"
      },
      "execution_count": 111,
      "outputs": [
        {
          "output_type": "execute_result",
          "data": {
            "text/plain": [
              "torch.Size([3])"
            ]
          },
          "metadata": {},
          "execution_count": 111
        }
      ]
    },
    {
      "cell_type": "code",
      "source": [
        "u_tensor = torch.unsqueeze(ss_tensor, dim=1)\n",
        "u_tensor"
      ],
      "metadata": {
        "colab": {
          "base_uri": "https://localhost:8080/"
        },
        "id": "XW5a-K21VJMc",
        "outputId": "0d16f19f-98d8-4692-c90e-ea6ef6b55fa6"
      },
      "execution_count": 116,
      "outputs": [
        {
          "output_type": "execute_result",
          "data": {
            "text/plain": [
              "tensor([[1],\n",
              "        [2],\n",
              "        [3]])"
            ]
          },
          "metadata": {},
          "execution_count": 116
        }
      ]
    },
    {
      "cell_type": "code",
      "source": [],
      "metadata": {
        "id": "RmNBY5XtVWm0"
      },
      "execution_count": null,
      "outputs": []
    }
  ]
}